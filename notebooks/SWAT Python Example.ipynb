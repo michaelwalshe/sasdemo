{
 "cells": [
  {
   "cell_type": "markdown",
   "metadata": {},
   "source": [
    "## Setting up a SWAT Connection for Python"
   ]
  },
  {
   "cell_type": "code",
   "execution_count": 5,
   "metadata": {},
   "outputs": [],
   "source": [
    "import os\n",
    "import swat"
   ]
  },
  {
   "cell_type": "code",
   "execution_count": 6,
   "metadata": {},
   "outputs": [],
   "source": [
    "os.environ['CAS_CLIENT_SSL_CA_LIST'] = R\"C:\\SAS Viya\\CAS_demo_ex_cert.crt\""
   ]
  },
  {
   "cell_type": "code",
   "execution_count": 7,
   "metadata": {},
   "outputs": [],
   "source": [
    "conn = swat.CAS(\n",
    "  hostname = \"sas-cas-server-default-bin-demo.uksouth.cloudapp.azure.com\",\n",
    "  port=5570,\n",
    "  authinfo=R\"C:\\SAS Viya\\.authinfo\"\n",
    ")"
   ]
  },
  {
   "cell_type": "code",
   "execution_count": null,
   "metadata": {},
   "outputs": [],
   "source": [
    "conn.serverstatus()"
   ]
  },
  {
   "cell_type": "markdown",
   "metadata": {},
   "source": [
    "## Create a reference to in-memory tables"
   ]
  },
  {
   "cell_type": "code",
   "execution_count": null,
   "metadata": {},
   "outputs": [],
   "source": [
    "cirrhosis = conn.CASTable(\"cirrhosis\", caslib=\"public\")"
   ]
  },
  {
   "cell_type": "markdown",
   "metadata": {},
   "source": [
    "## Use pandas code and functions on the CAS tables as if they were standard dataframes\n",
    "\n",
    "These will be translated into CAS actions, and alter the underlying table in CAS"
   ]
  },
  {
   "cell_type": "code",
   "execution_count": null,
   "metadata": {},
   "outputs": [],
   "source": [
    "# Get head data from table, methods similar to pandas\n",
    "cirrhosis.head()"
   ]
  },
  {
   "cell_type": "code",
   "execution_count": null,
   "metadata": {},
   "outputs": [],
   "source": [
    "# Work with the tables as if they were pandas dataframes\n",
    "\n",
    "cirrhosis[\"Bilirubin_high\"] = cirrhosis[\"Bilirubin\"] > 1.2"
   ]
  },
  {
   "cell_type": "markdown",
   "metadata": {},
   "source": [
    "## Use the full capabilities of CAS\n",
    "\n",
    "Can load in Action Sets to perform any CAS action, i.e. powerful in-memory & distributed analysis"
   ]
  },
  {
   "cell_type": "code",
   "execution_count": null,
   "metadata": {},
   "outputs": [],
   "source": [
    "conn.loadactionset(\"regression\")"
   ]
  },
  {
   "cell_type": "code",
   "execution_count": null,
   "metadata": {},
   "outputs": [],
   "source": [
    "output = cirrhosis.glm(\n",
    "    target = \"Platelets\",\n",
    "    inputs = [\"Stage\", \"Status\", \"Drug\", \"Bilirubin_high\", \"Albumin\", \"Copper\"],\n",
    "    nominals = [\"Stage\"],\n",
    "    output = {\n",
    "        \"casOut\": {\"name\": \"PlateletsPrediction\", \"replace\": True},\n",
    "        \"copyvars\": \"all\",\n",
    "        \"pred\": \"PredictedPlatelets\",\n",
    "        \"resid\": \"ResidualPlatelets\",\n",
    "    }\n",
    ")\n"
   ]
  },
  {
   "cell_type": "code",
   "execution_count": null,
   "metadata": {},
   "outputs": [],
   "source": [
    "result = conn.CASTable(\"PlateletsPrediction\")"
   ]
  },
  {
   "cell_type": "code",
   "execution_count": null,
   "metadata": {},
   "outputs": [],
   "source": [
    "result.head()"
   ]
  },
  {
   "cell_type": "code",
   "execution_count": null,
   "metadata": {},
   "outputs": [],
   "source": [
    "result.plot.scatter(\"PredictedPlatelets\", \"Platelets\")"
   ]
  },
  {
   "cell_type": "code",
   "execution_count": null,
   "metadata": {},
   "outputs": [],
   "source": []
  }
 ],
 "metadata": {
  "kernelspec": {
   "display_name": "venv_random",
   "language": "python",
   "name": "python3"
  },
  "language_info": {
   "codemirror_mode": {
    "name": "ipython",
    "version": 3
   },
   "file_extension": ".py",
   "mimetype": "text/x-python",
   "name": "python",
   "nbconvert_exporter": "python",
   "pygments_lexer": "ipython3",
   "version": "3.11.5"
  },
  "orig_nbformat": 4
 },
 "nbformat": 4,
 "nbformat_minor": 2
}
