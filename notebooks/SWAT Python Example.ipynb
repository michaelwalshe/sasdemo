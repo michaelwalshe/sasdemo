{
 "cells": [
  {
   "cell_type": "markdown",
   "metadata": {},
   "source": [
    "## Setting up a SWAT Connection for Python"
   ]
  },
  {
   "cell_type": "code",
   "execution_count": 7,
   "metadata": {},
   "outputs": [],
   "source": [
    "import os\n",
    "import swat"
   ]
  },
  {
   "cell_type": "code",
   "execution_count": 8,
   "metadata": {},
   "outputs": [],
   "source": [
    "os.environ['CAS_CLIENT_SSL_CA_LIST'] = R\"C:\\SAS Viya\\CAS_ex_cert.crt\""
   ]
  },
  {
   "cell_type": "code",
   "execution_count": 9,
   "metadata": {},
   "outputs": [],
   "source": [
    "conn = swat.CAS(\n",
    "    hostname=\"sas-cas-server-default-bin-demo.uksouth.cloudapp.azure.com\",\n",
    "    port=5570,\n",
    "    authinfo=R\"C:\\SAS Viya\\authinfo\"\n",
    ")"
   ]
  },
  {
   "cell_type": "code",
   "execution_count": 10,
   "metadata": {},
   "outputs": [
    {
     "name": "stdout",
     "output_type": "stream",
     "text": [
      "NOTE: Grid node action status report: 1 nodes, 8 total actions executed.\n"
     ]
    },
    {
     "data": {
      "text/html": [
       "<div class=\"cas-results-key\"><b>&#167; About</b></div>\n",
       "<div class=\"cas-results-body\">\n",
       "<div>{'CAS': 'Cloud Analytic Services', 'Version': '4.00', 'VersionLong': 'V.04.00M0P09182023', 'Viya Release': '20230928.1695876470805', 'Viya Version': 'Stable 2023.09', 'Copyright': 'Copyright © 2014-2023 SAS Institute Inc. All Rights Reserved.', 'ServerTime': '2023-10-03T12:23:30Z', 'System': {'Hostname': 'controller.sas-cas-server-default.sas-viya.svc.cluster.local', 'OS Name': 'Linux', 'OS Family': 'LIN X64', 'OS Release': '5.15.0-1041-azure', 'OS Version': '#48-Ubuntu SMP Tue Jun 20 20:34:08 UTC 2023', 'Model Number': 'x86_64', 'Linux Distribution': 'Red Hat Enterprise Linux release 8.8 (Ootpa)'}, 'license': {'site': 'AMADEUS SOFTWARE LTD VIYA 4', 'siteNum': 70282179, 'expires': '30 June 2024 00:00:00', 'gracePeriod': 30, 'warningPeriod': 30}, 'CASHostAccountRequired': 'OPTIONAL', 'Transferred': 'NO', 'CASCacheLocation': 'CAS Disk Cache'}</div>\n",
       "</div>\n",
       "<div class=\"cas-results-key\"><hr/><b>&#167; server</b></div>\n",
       "<div class=\"cas-results-body\">\n",
       "<div>\n",
       "<style scoped>\n",
       "    .dataframe tbody tr th:only-of-type {\n",
       "        vertical-align: middle;\n",
       "    }\n",
       "\n",
       "    .dataframe tbody tr th {\n",
       "        vertical-align: top;\n",
       "    }\n",
       "\n",
       "    .dataframe thead th {\n",
       "        text-align: right;\n",
       "    }\n",
       "</style>\n",
       "<table border=\"1\" class=\"dataframe\"><caption>Server Status</caption>\n",
       "  <thead>\n",
       "    <tr style=\"text-align: right;\">\n",
       "      <th title=\"\"></th>\n",
       "      <th title=\"Node Count\">nodes</th>\n",
       "      <th title=\"Total Actions\">actions</th>\n",
       "    </tr>\n",
       "  </thead>\n",
       "  <tbody>\n",
       "    <tr>\n",
       "      <td>0</td>\n",
       "      <td>1</td>\n",
       "      <td>8</td>\n",
       "    </tr>\n",
       "  </tbody>\n",
       "</table>\n",
       "</div>\n",
       "</div>\n",
       "<div class=\"cas-results-key\"><hr/><b>&#167; nodestatus</b></div>\n",
       "<div class=\"cas-results-body\">\n",
       "<div>\n",
       "<style scoped>\n",
       "    .dataframe tbody tr th:only-of-type {\n",
       "        vertical-align: middle;\n",
       "    }\n",
       "\n",
       "    .dataframe tbody tr th {\n",
       "        vertical-align: top;\n",
       "    }\n",
       "\n",
       "    .dataframe thead th {\n",
       "        text-align: right;\n",
       "    }\n",
       "</style>\n",
       "<table border=\"1\" class=\"dataframe\"><caption>Node Status</caption>\n",
       "  <thead>\n",
       "    <tr style=\"text-align: right;\">\n",
       "      <th title=\"\"></th>\n",
       "      <th title=\"Node Name\">name</th>\n",
       "      <th title=\"Role\">role</th>\n",
       "      <th title=\"Uptime (Sec)\">uptime</th>\n",
       "      <th title=\"Running\">running</th>\n",
       "      <th title=\"Stalled\">stalled</th>\n",
       "    </tr>\n",
       "  </thead>\n",
       "  <tbody>\n",
       "    <tr>\n",
       "      <td>0</td>\n",
       "      <td>controller.sas-cas-server-default.sas-viya.svc...</td>\n",
       "      <td>controller</td>\n",
       "      <td>2.913</td>\n",
       "      <td>0</td>\n",
       "      <td>0</td>\n",
       "    </tr>\n",
       "  </tbody>\n",
       "</table>\n",
       "</div>\n",
       "</div>\n",
       "<div class=\"cas-output-area\"></div>\n",
       "<p class=\"cas-results-performance\"><small><span class=\"cas-elapsed\">elapsed 0.00148s</span> &#183; <span class=\"cas-user\">user 0.00113s</span> &#183; <span class=\"cas-sys\">sys 0.000296s</span> &#183; <span class=\"cas-memory\">mem 0.309MB</span></small></p>"
      ],
      "text/plain": [
       "[About]\n",
       "\n",
       " {'CAS': 'Cloud Analytic Services',\n",
       "  'Version': '4.00',\n",
       "  'VersionLong': 'V.04.00M0P09182023',\n",
       "  'Viya Release': '20230928.1695876470805',\n",
       "  'Viya Version': 'Stable 2023.09',\n",
       "  'Copyright': 'Copyright © 2014-2023 SAS Institute Inc. All Rights Reserved.',\n",
       "  'ServerTime': '2023-10-03T12:23:30Z',\n",
       "  'System': {'Hostname': 'controller.sas-cas-server-default.sas-viya.svc.cluster.local',\n",
       "   'OS Name': 'Linux',\n",
       "   'OS Family': 'LIN X64',\n",
       "   'OS Release': '5.15.0-1041-azure',\n",
       "   'OS Version': '#48-Ubuntu SMP Tue Jun 20 20:34:08 UTC 2023',\n",
       "   'Model Number': 'x86_64',\n",
       "   'Linux Distribution': 'Red Hat Enterprise Linux release 8.8 (Ootpa)'},\n",
       "  'license': {'site': 'AMADEUS SOFTWARE LTD VIYA 4',\n",
       "   'siteNum': 70282179,\n",
       "   'expires': '30 June 2024 00:00:00',\n",
       "   'gracePeriod': 30,\n",
       "   'warningPeriod': 30},\n",
       "  'CASHostAccountRequired': 'OPTIONAL',\n",
       "  'Transferred': 'NO',\n",
       "  'CASCacheLocation': 'CAS Disk Cache'}\n",
       "\n",
       "[server]\n",
       "\n",
       " Server Status\n",
       " \n",
       "    nodes  actions\n",
       " 0      1        8\n",
       "\n",
       "[nodestatus]\n",
       "\n",
       " Node Status\n",
       " \n",
       "                                                 name        role  uptime  running  stalled\n",
       " 0  controller.sas-cas-server-default.sas-viya.svc...  controller   2.913        0        0\n",
       "\n",
       "+ Elapsed: 0.00148s, user: 0.00113s, sys: 0.000296s, mem: 0.309mb"
      ]
     },
     "execution_count": 10,
     "metadata": {},
     "output_type": "execute_result"
    }
   ],
   "source": [
    "conn.serverstatus()"
   ]
  },
  {
   "cell_type": "markdown",
   "metadata": {},
   "source": [
    "## Create a reference to in-memory tables"
   ]
  },
  {
   "cell_type": "code",
   "execution_count": null,
   "metadata": {},
   "outputs": [],
   "source": [
    "cirrhosis = conn.CASTable(\"cirrhosis\", caslib=\"public\")"
   ]
  },
  {
   "cell_type": "markdown",
   "metadata": {},
   "source": [
    "## Use pandas code and functions on the CAS tables as if they were standard dataframes\n",
    "\n",
    "These will be translated into CAS actions, and alter the underlying table in CAS"
   ]
  },
  {
   "cell_type": "code",
   "execution_count": null,
   "metadata": {},
   "outputs": [],
   "source": [
    "# Get head data from table, methods similar to pandas\n",
    "cirrhosis.head()"
   ]
  },
  {
   "cell_type": "code",
   "execution_count": null,
   "metadata": {},
   "outputs": [],
   "source": [
    "# Work with the tables as if they were pandas dataframes\n",
    "\n",
    "cirrhosis[\"Bilirubin_high\"] = cirrhosis[\"Bilirubin\"] > 1.2"
   ]
  },
  {
   "cell_type": "markdown",
   "metadata": {},
   "source": [
    "## Use the full capabilities of CAS\n",
    "\n",
    "Can load in Action Sets to perform any CAS action, i.e. powerful in-memory & distributed analysis"
   ]
  },
  {
   "cell_type": "code",
   "execution_count": null,
   "metadata": {},
   "outputs": [],
   "source": [
    "conn.loadactionset(\"regression\")"
   ]
  },
  {
   "cell_type": "code",
   "execution_count": null,
   "metadata": {},
   "outputs": [],
   "source": [
    "cirrhosis.glm(\n",
    "    target = \"Platelets\",\n",
    "    inputs = [\"Stage\", \"Status\", \"Drug\", \"Bilirubin_high\", \"Albumin\", \"Copper\"],\n",
    "    nominals = [\"Stage\"],\n",
    "    # display = {\"names\": \"ParameterEstimates\"},\n",
    "    output = {\n",
    "        \"casOut\": {\"name\": \"PlateletsPrediction\", \"replace\": True},\n",
    "        \"copyvars\": \"all\",\n",
    "        \"pred\": \"PredictedPlatelets\",\n",
    "        \"resid\": \"ResidualPlatelets\",\n",
    "        \"lcl\": \"LCL_Plt\",\n",
    "        \"ucl\": \"UCL_Plt\"\n",
    "    }\n",
    ")\n"
   ]
  },
  {
   "cell_type": "code",
   "execution_count": null,
   "metadata": {},
   "outputs": [],
   "source": [
    "result = conn.CASTable(\"PlateletsPrediction\")"
   ]
  },
  {
   "cell_type": "code",
   "execution_count": null,
   "metadata": {},
   "outputs": [],
   "source": [
    "result.head()"
   ]
  },
  {
   "cell_type": "code",
   "execution_count": null,
   "metadata": {},
   "outputs": [],
   "source": [
    "result.plot.scatter(\"PredictedPlatelets\", \"Platelets\")"
   ]
  },
  {
   "cell_type": "code",
   "execution_count": null,
   "metadata": {},
   "outputs": [],
   "source": []
  }
 ],
 "metadata": {
  "kernelspec": {
   "display_name": "venv",
   "language": "python",
   "name": "python3"
  },
  "language_info": {
   "codemirror_mode": {
    "name": "ipython",
    "version": 3
   },
   "file_extension": ".py",
   "mimetype": "text/x-python",
   "name": "python",
   "nbconvert_exporter": "python",
   "pygments_lexer": "ipython3",
   "version": "3.11.5"
  },
  "orig_nbformat": 4
 },
 "nbformat": 4,
 "nbformat_minor": 2
}
